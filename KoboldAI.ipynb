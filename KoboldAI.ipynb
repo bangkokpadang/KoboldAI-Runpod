{
 "cells": [
  {
   "cell_type": "code",
   "execution_count": 1,
   "id": "1e265c4d-4974-4c81-b027-95ab6529b395",
   "metadata": {},
   "outputs": [
    {
     "name": "stdout",
     "output_type": "stream",
     "text": [
      "Hit:1 http://archive.ubuntu.com/ubuntu jammy InRelease\n",
      "Get:2 http://archive.ubuntu.com/ubuntu jammy-updates InRelease [119 kB]        \n",
      "Get:3 https://developer.download.nvidia.com/compute/cuda/repos/ubuntu2204/x86_64  InRelease [1581 B]\n",
      "Get:4 http://security.ubuntu.com/ubuntu jammy-security InRelease [110 kB]      \n",
      "Get:5 http://archive.ubuntu.com/ubuntu jammy-backports InRelease [108 kB]      \n",
      "Get:6 https://developer.download.nvidia.com/compute/cuda/repos/ubuntu2204/x86_64  Packages [359 kB]\n",
      "Get:7 https://ppa.launchpadcontent.net/deadsnakes/ppa/ubuntu jammy InRelease [18.1 kB]\n",
      "Get:8 http://archive.ubuntu.com/ubuntu jammy-updates/universe amd64 Packages [1185 kB]\n",
      "Get:9 http://archive.ubuntu.com/ubuntu jammy-updates/restricted amd64 Packages [545 kB]\n",
      "Get:10 http://archive.ubuntu.com/ubuntu jammy-updates/main amd64 Packages [919 kB]\n",
      "Get:11 http://archive.ubuntu.com/ubuntu jammy-backports/universe amd64 Packages [27.0 kB]\n",
      "Get:12 http://security.ubuntu.com/ubuntu jammy-security/main amd64 Packages [631 kB]\n",
      "Get:13 http://security.ubuntu.com/ubuntu jammy-security/universe amd64 Packages [935 kB]\n",
      "Get:14 http://security.ubuntu.com/ubuntu jammy-security/restricted amd64 Packages [541 kB]\n",
      "Get:15 https://ppa.launchpadcontent.net/deadsnakes/ppa/ubuntu jammy/main amd64 Packages [21.7 kB]\n",
      "Fetched 5520 kB in 2s (3139 kB/s)                                              \n",
      "Reading package lists... Done\n",
      "Reading package lists... Done\n",
      "Building dependency tree... Done\n",
      "Reading state information... Done\n",
      "The following NEW packages will be installed:\n",
      "  git-lfs\n",
      "0 upgraded, 1 newly installed, 0 to remove and 23 not upgraded.\n",
      "Need to get 3503 kB of archives.\n",
      "After this operation, 10.4 MB of additional disk space will be used.\n",
      "Get:1 http://archive.ubuntu.com/ubuntu jammy-updates/universe amd64 git-lfs amd64 3.0.2-1ubuntu0.2 [3503 kB]\n",
      "Fetched 3503 kB in 1s (3109 kB/s)\n",
      "debconf: delaying package configuration, since apt-utils is not installed\n",
      "Selecting previously unselected package git-lfs.\n",
      "(Reading database ... 19391 files and directories currently installed.)\n",
      "Preparing to unpack .../git-lfs_3.0.2-1ubuntu0.2_amd64.deb ...\n",
      "Unpacking git-lfs (3.0.2-1ubuntu0.2) ...\n",
      "Setting up git-lfs (3.0.2-1ubuntu0.2) ...\n",
      "Requirement already satisfied: pip in /usr/local/lib/python3.10/dist-packages (23.1.2)\n",
      "\u001b[33mWARNING: Running pip as the 'root' user can result in broken permissions and conflicting behaviour with the system package manager. It is recommended to use a virtual environment instead: https://pip.pypa.io/warnings/venv\u001b[0m\u001b[33m\n",
      "\u001b[0mGit LFS initialized.\n",
      "Cloning into 'KoboldAI'...\n",
      "remote: Enumerating objects: 16813, done.\u001b[K\n",
      "remote: Counting objects: 100% (6468/6468), done.\u001b[K\n",
      "remote: Compressing objects: 100% (222/222), done.\u001b[K\n",
      "remote: Total 16813 (delta 6314), reused 6308 (delta 6230), pack-reused 10345\u001b[K\n",
      "Receiving objects: 100% (16813/16813), 21.30 MiB | 10.38 MiB/s, done.\n",
      "Resolving deltas: 100% (11712/11712), done.\n",
      "Submodule 'KoboldAI-Horde-Bridge' (https://github.com/db0/KoboldAI-Horde-Bridge) registered for path 'KoboldAI-Horde-Bridge'\n",
      "Cloning into '/workspace/KoboldAI/KoboldAI-Horde-Bridge'...\n",
      "remote: Enumerating objects: 1037, done.        \n",
      "remote: Counting objects: 100% (205/205), done.        \n",
      "remote: Compressing objects: 100% (72/72), done.        \n",
      "remote: Total 1037 (delta 154), reused 177 (delta 133), pack-reused 832        \n",
      "Receiving objects: 100% (1037/1037), 4.59 MiB | 7.79 MiB/s, done.\n",
      "Resolving deltas: 100% (679/679), done.\n",
      "Submodule path 'KoboldAI-Horde-Bridge': checked out '7a7327804ff10182adf8cda48e97784958699a49'\n",
      "\u001b[33m\u001b[1mwarning  libmamba\u001b[m [cuda-nvtx-11.8.86-0] The following files were already present in the environment:\n",
      "    - LICENSE\n",
      "\u001b[1m\u001b[41mcritical libmamba\u001b[m Cannot activate, prefix does not exist at: runtime/envs/koboldai\n",
      "/tmp/mambafnGJvrJUbfD: line 5: runtime/envs/koboldai/bin/python: No such file or directory\n",
      "\u001b[1m\u001b[41mcritical libmamba\u001b[m pip failed to install packages\n",
      "\u001b[33m\u001b[1mwarning  libmamba\u001b[m [cuda-nvtx-11.8.86-0] The following files were already present in the environment:\n",
      "    - LICENSE\n",
      "  Running command git clone --filter=blob:none --quiet https://github.com/VE-FORBRYDERNE/mkultra /tmp/pip-req-build-1geimbof\n",
      "  Running command git clone --filter=blob:none --quiet https://github.com/0cc4m/hf_bleeding_edge/ /tmp/pip-req-build-3cfgk7rv\n",
      "\u001b[33mWARNING: Running pip as the 'root' user can result in broken permissions and conflicting behaviour with the system package manager. It is recommended to use a virtual environment instead: https://pip.pypa.io/warnings/venv\u001b[0m\u001b[33m\n",
      "\u001b[0m"
     ]
    }
   ],
   "source": [
    "import os\n",
    "\n",
    "# Package / Python updates.\n",
    "\n",
    "!apt-get -y update\n",
    "!apt-get -y install git-lfs\n",
    "!python -m pip install --upgrade pip\n",
    "\n",
    "!git-lfs install\n",
    "!git clone https://github.com/0cc4m/KoboldAI -b latestgptq --recurse-submodules\n",
    "\n",
    "# Install KoboldAI.\n",
    "\n",
    "!cd KoboldAI && ./install_requirements.sh cuda > /dev/null"
   ]
  },
  {
   "cell_type": "code",
   "execution_count": 2,
   "id": "ba6f8f7f-b210-4dd5-afe6-0d306d9bbeff",
   "metadata": {},
   "outputs": [
    {
     "name": "stdout",
     "output_type": "stream",
     "text": [
      "Cloning into 'airoboros-65B-gpt4-1.2-GPTQ'...\n",
      "remote: Enumerating objects: 33, done.\u001b[K\n",
      "remote: Counting objects: 100% (33/33), done.\u001b[K\n",
      "remote: Compressing objects: 100% (32/32), done.\u001b[K\n",
      "remote: Total 33 (delta 11), reused 0 (delta 0), pack-reused 0\u001b[K\n",
      "Unpacking objects: 100% (33/33), 484.38 KiB | 3.41 MiB/s, done.\n",
      "Encountered 1 file(s) that may not have been copied correctly on Windows:\n",
      "\tairoboros-65B-gpt4-1.2-GPTQ-4bit--1g.act.order.safetensors\n",
      "\n",
      "See: `git lfs help smudge` for more details.\n",
      "mv: cannot stat '*.pt': No such file or directory\n"
     ]
    }
   ],
   "source": [
    "num_params = \"30b\" #@param [\"7b\", \"13b\", \"30b\", \"65b\"]\n",
    "\n",
    "group_size = \"None\" #@param [\"None\", \"32\", \"128\"]\n",
    "\n",
    "huggingface_url = 'https://huggingface.co/TheBloke/WizardLM-Uncensored-SuperCOT-StoryTelling-30B-GPTQ' #@param {type:\"string\"}\n",
    "\n",
    "version = '' #@param {type:\"string\"}\n",
    "\n",
    "group_and_model = huggingface_url[len('https://huggingface.co/'):].split('/')[:2]\n",
    "group = group_and_model[0]\n",
    "model = group_and_model[1]\n",
    "\n",
    "if not version:\n",
    "    !cd KoboldAI/models && git clone https://huggingface.co/{group}/{model}/\n",
    "else:\n",
    "    !cd KoboldAI/models && git clone https://huggingface.co/{group}/{model}/ && cd {model} && git checkout {version}\n",
    "\n",
    "if group_size == 'None':\n",
    "    !cd KoboldAI/models/{model} ; mv *.pt 4bit.pt ; mv *.safetensors 4bit.safetensors\n",
    "else:\n",
    "    !cd KoboldAI/models/{model} ; mv *.pt 4bit-{group_size}g.pt ; mv *.safetensors 4bit-{group_size}g.safetensors"
   ]
  },
  {
   "cell_type": "code",
   "execution_count": null,
   "id": "d3a4d475-f919-4564-aa0f-07e56b11c7fc",
   "metadata": {},
   "outputs": [],
   "source": [
    "!cd KoboldAI && ./play.sh --remote --quiet"
   ]
  }
 ],
 "metadata": {
  "kernelspec": {
   "display_name": "Python 3 (ipykernel)",
   "language": "python",
   "name": "python3"
  },
  "language_info": {
   "codemirror_mode": {
    "name": "ipython",
    "version": 3
   },
   "file_extension": ".py",
   "mimetype": "text/x-python",
   "name": "python",
   "nbconvert_exporter": "python",
   "pygments_lexer": "ipython3",
   "version": "3.10.6"
  }
 },
 "nbformat": 4,
 "nbformat_minor": 5
}
