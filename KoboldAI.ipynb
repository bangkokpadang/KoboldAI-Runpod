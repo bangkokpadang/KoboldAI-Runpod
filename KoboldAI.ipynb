{
 "cells": [
  {
   "cell_type": "code",
   "execution_count": 1,
   "id": "1e265c4d-4974-4c81-b027-95ab6529b395",
   "metadata": {},
   "outputs": [],
   "source": [
    "import os\n",
    "\n",
    "# Package / Python updates.\n",
    "\n",
    "!apt-get -y update\n",
    "!apt-get -y install git-lfs\n",
    "!python -m pip install --upgrade pip\n",
    "\n",
    "!git-lfs install\n",
    "!git clone https://github.com/0cc4m/KoboldAI -b latestgptq --recurse-submodules\n",
    "\n",
    "# Install KoboldAI.\n",
    "\n",
    "!cd KoboldAI && ./install_requirements.sh cuda > /dev/null"
   ]
  },
  {
   "cell_type": "code",
   "execution_count": 2,
   "id": "ba6f8f7f-b210-4dd5-afe6-0d306d9bbeff",
   "metadata": {},
   "outputs": [],
   "source": [
    "num_params = \"30b\" #@param [\"7b\", \"13b\", \"30b\", \"65b\"]\n",
    "\n",
    "group_size = \"None\" #@param [\"None\", \"32\", \"128\"]\n",
    "\n",
    "huggingface_url = 'https://huggingface.co/TheBloke/WizardLM-Uncensored-SuperCOT-StoryTelling-30B-GPTQ' #@param {type:\"string\"}\n",
    "\n",
    "version = '' #@param {type:\"string\"}\n",
    "\n",
    "group_and_model = huggingface_url[len('https://huggingface.co/'):].split('/')[:2]\n",
    "group = group_and_model[0]\n",
    "model = group_and_model[1]\n",
    "\n",
    "if not version:\n",
    "    !cd KoboldAI/models && git clone https://huggingface.co/{group}/{model}/\n",
    "else:\n",
    "    !cd KoboldAI/models && git clone https://huggingface.co/{group}/{model}/ && cd {model} && git checkout {version}\n",
    "\n",
    "if group_size == 'None':\n",
    "    !cd KoboldAI/models/{model} ; mv *.pt 4bit.pt ; mv *.safetensors 4bit.safetensors\n",
    "else:\n",
    "    !cd KoboldAI/models/{model} ; mv *.pt 4bit-{group_size}g.pt ; mv *.safetensors 4bit-{group_size}g.safetensors"
   ]
  },
  {
   "cell_type": "code",
   "execution_count": null,
   "id": "d3a4d475-f919-4564-aa0f-07e56b11c7fc",
   "metadata": {},
   "outputs": [],
   "source": [
    "!cd KoboldAI && ./play.sh --remote --quiet"
   ]
  }
 ],
 "metadata": {
  "kernelspec": {
   "display_name": "Python 3 (ipykernel)",
   "language": "python",
   "name": "python3"
  },
  "language_info": {
   "codemirror_mode": {
    "name": "ipython",
    "version": 3
   },
   "file_extension": ".py",
   "mimetype": "text/x-python",
   "name": "python",
   "nbconvert_exporter": "python",
   "pygments_lexer": "ipython3",
   "version": "3.10.6"
  }
 },
 "nbformat": 4,
 "nbformat_minor": 5
}
