{
 "cells": [
  {
   "cell_type": "code",
   "execution_count": 1,
   "id": "701a4771-ab75-438f-8f79-a5f05dbaf192",
   "metadata": {},
   "outputs": [],
   "source": [
    "!git clone https://github.com/SillyTavern/SillyTavern-extras"
   ]
  },
  {
   "cell_type": "code",
   "execution_count": null,
   "id": "6cddd6d3-9a6e-42ba-b8ba-55965e400a7b",
   "metadata": {},
   "outputs": [],
   "source": [
    "!pip install --ignore-installed -r /workspace/SillyTavern-extras/requirements.txt"
   ]
  },
  {
   "cell_type": "code",
   "execution_count": null,
   "id": "78ce035b-7c4f-490b-9f88-174f103190bd",
   "metadata": {},
   "outputs": [],
   "source": [
    "!python /workspace/SillyTavern-extras/server.py --enable-modules=caption,summarize,classify --share"
   ]
  }
 ],
 "metadata": {
  "kernelspec": {
   "display_name": "Python 3 (ipykernel)",
   "language": "python",
   "name": "python3"
  },
  "language_info": {
   "codemirror_mode": {
    "name": "ipython",
    "version": 3
   },
   "file_extension": ".py",
   "mimetype": "text/x-python",
   "name": "python",
   "nbconvert_exporter": "python",
   "pygments_lexer": "ipython3",
   "version": "3.10.6"
  }
 },
 "nbformat": 4,
 "nbformat_minor": 5
}
